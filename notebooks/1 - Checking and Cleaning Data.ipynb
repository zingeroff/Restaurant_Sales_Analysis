{
 "cells": [
  {
   "cell_type": "markdown",
   "metadata": {},
   "source": [
    "## Restaurant Data Analysis\n",
    "This project analyzes restaurant sales data to uncover trends, optimize operations, and predict revenue."
   ]
  },
  {
   "cell_type": "markdown",
   "metadata": {},
   "source": [
    "### Data Loading\n",
    "In this step, we load the datasets and explore their structure."
   ]
  },
  {
   "cell_type": "code",
   "execution_count": 6,
   "metadata": {},
   "outputs": [
    {
     "name": "stdout",
     "output_type": "stream",
     "text": [
      "Orders preview:\n",
      "   order_id  client_id  order_date order_time  menu_item_id  quantity  discount (%)  total_price ($)\n",
      "0   1000001       1847  2022-05-01   08:00:00           134         1             0            13.50\n",
      "1   1000001       1847  2022-05-01   08:00:00           111         3             0            20.97\n",
      "2   1000001       1847  2022-05-01   08:00:00           123         2             0            11.98\n",
      "3   1000002       1516  2022-05-01   08:01:00           108         1             0            12.99\n",
      "4   1000002       1516  2022-05-01   08:01:00           140         1             5             2.84\n",
      "\n",
      "Menu preview:\n",
      "   menu_item_id              item_name     category  price ($)  cost ($)\n",
      "0           101    Classic Beef Burger  Beef Burger      11.99       4.8\n",
      "1           102       BBQ Bacon Burger  Beef Burger      13.50       5.4\n",
      "2           103  Mushroom Swiss Burger  Beef Burger      12.99       5.2\n",
      "3           104  Spicy Jalapeno Burger  Beef Burger      12.50       5.0\n",
      "4           105    Double Cheeseburger  Beef Burger      14.99       6.0\n",
      "\n",
      "Guests preview:\n",
      "   guest_id first_name last_name  gender date_of_birth         phone                     email referral_source\n",
      "0      1001        Fey    Border  Female    07/04/1994  108-471-1810   fborder0@altervista.org     Google Maps\n",
      "1      1002     Nealon    Yaneev    Male    04/15/1984  985-192-5059        nyaneev1@google.de     Google Maps\n",
      "2      1003     Arleta   Stanway  Female    08/07/1974  960-148-8404  astanway2@opensource.org     Google Maps\n",
      "3      1004     Barbie  Gockelen  Female    05/01/1981  426-340-0038        bgockelen3@npr.org   Advertisement\n",
      "4      1005      Lenci       Ure    Male    01/31/2008  432-541-2250            lure4@about.me   Advertisement\n"
     ]
    }
   ],
   "source": [
    "import pandas as pd\n",
    "\n",
    "# File paths\n",
    "path = '/Users/zinger/Documents/Restaurant_project'\n",
    "orders_file = f\"{path}/orders_05_2022.csv\"\n",
    "menu_file = f\"{path}/menu-data.csv\"\n",
    "guests_file = f\"{path}/guests.csv\"\n",
    "\n",
    "# Load datasets\n",
    "orders_df = pd.read_csv(orders_file)\n",
    "menu_df = pd.read_csv(menu_file)\n",
    "guests_df = pd.read_csv(guests_file)\n",
    "\n",
    "# Preview datasets\n",
    "print(\"Orders preview:\")\n",
    "print(orders_df.head())\n",
    "\n",
    "print(\"\\nMenu preview:\")\n",
    "print(menu_df.head())\n",
    "\n",
    "print(\"\\nGuests preview:\")\n",
    "print(guests_df.head())"
   ]
  },
  {
   "cell_type": "markdown",
   "metadata": {},
   "source": [
    "### Processing Date and Time Data\n",
    "In this step, we transform `order_date` and `order_time` into datetime-compatible formats. Additionally, we create a new column, `time_of_day`, \n",
    "which categorizes orders into three periods: Morning, Afternoon and Evening."
   ]
  },
  {
   "cell_type": "code",
   "execution_count": 7,
   "metadata": {},
   "outputs": [
    {
     "name": "stdout",
     "output_type": "stream",
     "text": [
      "Missing menu IDs in orders (not found in menu):\n",
      "Empty DataFrame\n",
      "Columns: [order_id, client_id, order_date, order_time, menu_item_id, quantity, discount (%), total_price ($)]\n",
      "Index: []\n",
      "Missing guest IDs in orders (not found in guests):\n",
      "Empty DataFrame\n",
      "Columns: [order_id, client_id, order_date, order_time, menu_item_id, quantity, discount (%), total_price ($)]\n",
      "Index: []\n",
      "Updated Orders Data with time_of_day:\n",
      "  order_time time_of_day\n",
      "0   08:00:00     Morning\n",
      "1   08:00:00     Morning\n",
      "2   08:00:00     Morning\n",
      "3   08:01:00     Morning\n",
      "4   08:01:00     Morning\n"
     ]
    }
   ],
   "source": [
    "\n",
    "\n",
    "# Define file paths for the datasets\n",
    "path = '/Users/zinger/Documents/Restaurant_project'\n",
    "orders_file = f\"{path}/orders_05_2022.csv\"  # Path to orders data\n",
    "menu_file = f\"{path}/menu-data.csv\"         # Path to menu data\n",
    "guests_file = f\"{path}/guests.csv\"          # Path to guest data\n",
    "\n",
    "# Load datasets into pandas DataFrames\n",
    "orders_df = pd.read_csv(orders_file)  # Orders table: details of each order\n",
    "menu_df = pd.read_csv(menu_file)      # Menu table: details of menu items\n",
    "guests_df = pd.read_csv(guests_file)  # Guests table: details of restaurant customers\n",
    "\n",
    "# STEP 1: Data integrity check\n",
    "\n",
    "# Identify menu_item_id values in the orders table that are not in the menu table\n",
    "missing_menu_ids = orders_df[~orders_df['menu_item_id'].isin(menu_df['menu_item_id'])]\n",
    "print(\"Missing menu IDs in orders (not found in menu):\")\n",
    "print(missing_menu_ids)\n",
    "\n",
    "# Identify client_id values in the orders table that are not in the guests table\n",
    "missing_guest_ids = orders_df[~orders_df['client_id'].isin(guests_df['guest_id'])]\n",
    "print(\"Missing guest IDs in orders (not found in guests):\")\n",
    "print(missing_guest_ids)\n",
    "\n",
    "# STEP 2: Process date and time columns\n",
    "\n",
    "# Convert the 'order_date' column from string to datetime format\n",
    "orders_df['order_date'] = pd.to_datetime(orders_df['order_date'])\n",
    "\n",
    "# Convert the 'order_time' column from string to time format\n",
    "orders_df['order_time'] = pd.to_datetime(orders_df['order_time'], format='%H:%M:%S').dt.time\n",
    "\n",
    "# Add a new column 'time_of_day' to categorize orders based on updated time periods\n",
    "def get_time_of_day(order_time):\n",
    "    \"\"\"\n",
    "    Categorize time of day into three periods:\n",
    "    - Morning: Before 11 AM\n",
    "    - Afternoon: 11 AM to 5 PM\n",
    "    - Evening: 5 PM to 10 PM\n",
    "    \"\"\"\n",
    "    if order_time < pd.to_datetime(\"11:00:00\").time():\n",
    "        return \"Morning\"\n",
    "    elif order_time < pd.to_datetime(\"17:00:00\").time():\n",
    "        return \"Afternoon\"\n",
    "    else:\n",
    "        return \"Evening\"\n",
    "\n",
    "# Apply the updated time categorization function\n",
    "orders_df['time_of_day'] = orders_df['order_time'].apply(get_time_of_day)\n",
    "\n",
    "# Display the updated orders data with the new time_of_day column\n",
    "print(\"Updated Orders Data with time_of_day:\")\n",
    "print(orders_df[['order_time', 'time_of_day']].head())\n",
    "\n"
   ]
  }
 ],
 "metadata": {
  "kernelspec": {
   "display_name": "Python 3",
   "language": "python",
   "name": "python3"
  },
  "language_info": {
   "codemirror_mode": {
    "name": "ipython",
    "version": 3
   },
   "file_extension": ".py",
   "mimetype": "text/x-python",
   "name": "python",
   "nbconvert_exporter": "python",
   "pygments_lexer": "ipython3",
   "version": "3.13.1"
  }
 },
 "nbformat": 4,
 "nbformat_minor": 2
}
