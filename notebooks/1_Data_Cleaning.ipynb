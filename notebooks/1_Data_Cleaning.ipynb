{
  "nbformat": 4,
  "nbformat_minor": 0,
  "metadata": {
    "colab": {
      "provenance": [],
      "authorship_tag": "ABX9TyOVVDFF5QXDA+R94SuZazQq"
    },
    "kernelspec": {
      "name": "python3",
      "display_name": "Python 3"
    },
    "language_info": {
      "name": "python"
    }
  },
  "cells": [
    {
      "cell_type": "code",
      "execution_count": 1,
      "metadata": {
        "colab": {
          "base_uri": "https://localhost:8080/"
        },
        "id": "FHfEH2o7_Otv",
        "outputId": "b46e1c56-2001-406d-c5a1-5f39c5123b21"
      },
      "outputs": [
        {
          "output_type": "stream",
          "name": "stdout",
          "text": [
            "Data files loaded successfully!\n"
          ]
        }
      ],
      "source": [
        "# 1_Data_Cleaning.ipynb\n",
        "\n",
        "# ---------------------------\n",
        "# Step 1: Import Libraries\n",
        "# ---------------------------\n",
        "import pandas as pd\n",
        "import numpy as np\n",
        "\n",
        "# Define the base URL for raw data from the GitHub repository\n",
        "# (Replace <USERNAME> with your actual GitHub username if needed)\n",
        "url_base = \"https://raw.githubusercontent.com/zingeroff/Restaurant_Sales_Analysis/main/data\"\n",
        "\n",
        "# ---------------------------\n",
        "# Step 2: Load CSV Files\n",
        "# ---------------------------\n",
        "\n",
        "# Load guests data\n",
        "guests_df = pd.read_csv(f\"{url_base}/guests.csv\")\n",
        "\n",
        "# Load menu data\n",
        "menu_df = pd.read_csv(f\"{url_base}/menu-data.csv\")\n",
        "\n",
        "# Load monthly orders (April, May, June)\n",
        "orders_apr_df = pd.read_csv(f\"{url_base}/orders_04_2022.csv\")\n",
        "orders_may_df = pd.read_csv(f\"{url_base}/orders_05_2022.csv\")\n",
        "orders_jun_df = pd.read_csv(f\"{url_base}/orders_06_2022.csv\")\n",
        "\n",
        "print(\"Data files loaded successfully!\")\n"
      ]
    },
    {
      "cell_type": "code",
      "source": [
        "# ---------------------------\n",
        "# Step 3: Initial Overview\n",
        "# ---------------------------\n",
        "\n",
        "print(\"Guests DataFrame Info:\")\n",
        "guests_df.info()\n",
        "print(\"\\n\", guests_df.head(), \"\\n\")\n",
        "\n",
        "print(\"Menu DataFrame Info:\")\n",
        "menu_df.info()\n",
        "print(\"\\n\", menu_df.head(), \"\\n\")\n",
        "\n",
        "print(\"Orders (April) Info:\")\n",
        "orders_apr_df.info()\n",
        "print(\"\\n\", orders_apr_df.head(), \"\\n\")\n",
        "\n",
        "print(\"Orders (May) Info:\")\n",
        "orders_may_df.info()\n",
        "print(\"\\n\", orders_may_df.head(), \"\\n\")\n",
        "\n",
        "print(\"Orders (June) Info:\")\n",
        "orders_jun_df.info()\n",
        "print(\"\\n\", orders_jun_df.head(), \"\\n\")\n"
      ],
      "metadata": {
        "colab": {
          "base_uri": "https://localhost:8080/"
        },
        "id": "MYrNRj_3AOSf",
        "outputId": "6e0a11e1-08ca-453d-e83a-9fe50417e3be"
      },
      "execution_count": 2,
      "outputs": [
        {
          "output_type": "stream",
          "name": "stdout",
          "text": [
            "Guests DataFrame Info:\n",
            "<class 'pandas.core.frame.DataFrame'>\n",
            "RangeIndex: 988 entries, 0 to 987\n",
            "Data columns (total 8 columns):\n",
            " #   Column           Non-Null Count  Dtype \n",
            "---  ------           --------------  ----- \n",
            " 0   guest_id         988 non-null    int64 \n",
            " 1   first_name       988 non-null    object\n",
            " 2   last_name        988 non-null    object\n",
            " 3   gender           988 non-null    object\n",
            " 4   date_of_birth    988 non-null    object\n",
            " 5   phone            988 non-null    object\n",
            " 6   email            988 non-null    object\n",
            " 7   referral_source  988 non-null    object\n",
            "dtypes: int64(1), object(7)\n",
            "memory usage: 61.9+ KB\n",
            "\n",
            "    guest_id first_name last_name  gender date_of_birth         phone  \\\n",
            "0      1001        Fey    Border  Female    07/04/1994  108-471-1810   \n",
            "1      1002     Nealon    Yaneev    Male    04/15/1984  985-192-5059   \n",
            "2      1003     Arleta   Stanway  Female    08/07/1974  960-148-8404   \n",
            "3      1004     Barbie  Gockelen  Female    05/01/1981  426-340-0038   \n",
            "4      1005      Lenci       Ure    Male    01/31/2008  432-541-2250   \n",
            "\n",
            "                      email referral_source  \n",
            "0   fborder0@altervista.org     Google Maps  \n",
            "1        nyaneev1@google.de     Google Maps  \n",
            "2  astanway2@opensource.org     Google Maps  \n",
            "3        bgockelen3@npr.org   Advertisement  \n",
            "4            lure4@about.me   Advertisement   \n",
            "\n",
            "Menu DataFrame Info:\n",
            "<class 'pandas.core.frame.DataFrame'>\n",
            "RangeIndex: 45 entries, 0 to 44\n",
            "Data columns (total 5 columns):\n",
            " #   Column        Non-Null Count  Dtype  \n",
            "---  ------        --------------  -----  \n",
            " 0   menu_item_id  45 non-null     int64  \n",
            " 1   item_name     45 non-null     object \n",
            " 2   category      45 non-null     object \n",
            " 3   price ($)     45 non-null     float64\n",
            " 4   cost ($)      45 non-null     float64\n",
            "dtypes: float64(2), int64(1), object(2)\n",
            "memory usage: 1.9+ KB\n",
            "\n",
            "    menu_item_id              item_name     category  price ($)  cost ($)\n",
            "0           101    Classic Beef Burger  Beef Burger      11.99       4.8\n",
            "1           102       BBQ Bacon Burger  Beef Burger      13.50       5.4\n",
            "2           103  Mushroom Swiss Burger  Beef Burger      12.99       5.2\n",
            "3           104  Spicy Jalapeno Burger  Beef Burger      12.50       5.0\n",
            "4           105    Double Cheeseburger  Beef Burger      14.99       6.0 \n",
            "\n",
            "Orders (April) Info:\n",
            "<class 'pandas.core.frame.DataFrame'>\n",
            "RangeIndex: 41692 entries, 0 to 41691\n",
            "Data columns (total 8 columns):\n",
            " #   Column           Non-Null Count  Dtype  \n",
            "---  ------           --------------  -----  \n",
            " 0   order_id         41692 non-null  int64  \n",
            " 1   client_id        41692 non-null  int64  \n",
            " 2   order_date       41692 non-null  object \n",
            " 3   order_time       41692 non-null  object \n",
            " 4   menu_item_id     41692 non-null  int64  \n",
            " 5   quantity         41692 non-null  int64  \n",
            " 6   discount (%)     41692 non-null  int64  \n",
            " 7   total_price ($)  41692 non-null  float64\n",
            "dtypes: float64(1), int64(5), object(2)\n",
            "memory usage: 2.5+ MB\n",
            "\n",
            "    order_id  client_id  order_date order_time  menu_item_id  quantity  \\\n",
            "0    900001       1126  2022-04-01   08:00:00           103         3   \n",
            "1    900001       1126  2022-04-01   08:00:00           140         3   \n",
            "2    900002       1594  2022-04-01   08:00:00           102         1   \n",
            "3    900002       1594  2022-04-01   08:00:00           136         1   \n",
            "4    900003       1864  2022-04-01   08:02:00           106         3   \n",
            "\n",
            "   discount (%)  total_price ($)  \n",
            "0             0            38.97  \n",
            "1             0             8.97  \n",
            "2             0            13.50  \n",
            "3             0             3.50  \n",
            "4             0            32.97   \n",
            "\n",
            "Orders (May) Info:\n",
            "<class 'pandas.core.frame.DataFrame'>\n",
            "RangeIndex: 53704 entries, 0 to 53703\n",
            "Data columns (total 8 columns):\n",
            " #   Column           Non-Null Count  Dtype  \n",
            "---  ------           --------------  -----  \n",
            " 0   order_id         53704 non-null  int64  \n",
            " 1   client_id        53704 non-null  int64  \n",
            " 2   order_date       53704 non-null  object \n",
            " 3   order_time       53704 non-null  object \n",
            " 4   menu_item_id     53704 non-null  int64  \n",
            " 5   quantity         53704 non-null  int64  \n",
            " 6   discount (%)     53704 non-null  int64  \n",
            " 7   total_price ($)  53704 non-null  float64\n",
            "dtypes: float64(1), int64(5), object(2)\n",
            "memory usage: 3.3+ MB\n",
            "\n",
            "    order_id  client_id  order_date order_time  menu_item_id  quantity  \\\n",
            "0   1000001       1847  2022-05-01   08:00:00           134         1   \n",
            "1   1000001       1847  2022-05-01   08:00:00           111         3   \n",
            "2   1000001       1847  2022-05-01   08:00:00           123         2   \n",
            "3   1000002       1516  2022-05-01   08:01:00           108         1   \n",
            "4   1000002       1516  2022-05-01   08:01:00           140         1   \n",
            "\n",
            "   discount (%)  total_price ($)  \n",
            "0             0            13.50  \n",
            "1             0            20.97  \n",
            "2             0            11.98  \n",
            "3             0            12.99  \n",
            "4             5             2.84   \n",
            "\n",
            "Orders (June) Info:\n",
            "<class 'pandas.core.frame.DataFrame'>\n",
            "RangeIndex: 54987 entries, 0 to 54986\n",
            "Data columns (total 8 columns):\n",
            " #   Column           Non-Null Count  Dtype  \n",
            "---  ------           --------------  -----  \n",
            " 0   order_id         54987 non-null  int64  \n",
            " 1   client_id        54987 non-null  int64  \n",
            " 2   order_date       54987 non-null  object \n",
            " 3   order_time       54987 non-null  object \n",
            " 4   menu_item_id     54987 non-null  int64  \n",
            " 5   quantity         54987 non-null  int64  \n",
            " 6   discount (%)     54987 non-null  int64  \n",
            " 7   total_price ($)  54987 non-null  float64\n",
            "dtypes: float64(1), int64(5), object(2)\n",
            "memory usage: 3.4+ MB\n",
            "\n",
            "    order_id  client_id  order_date order_time  menu_item_id  quantity  \\\n",
            "0   1100001       1802  2022-06-01   08:00:00           105         2   \n",
            "1   1100001       1802  2022-06-01   08:00:00           115         3   \n",
            "2   1100002       1705  2022-06-01   08:04:00           133         2   \n",
            "3   1100002       1705  2022-06-01   08:04:00           110         2   \n",
            "4   1100002       1705  2022-06-01   08:04:00           124         1   \n",
            "\n",
            "   discount (%)  total_price ($)  \n",
            "0             0            29.98  \n",
            "1             0            26.97  \n",
            "2             0            29.00  \n",
            "3            15            10.18  \n",
            "4             0             5.99   \n",
            "\n"
          ]
        }
      ]
    },
    {
      "cell_type": "code",
      "source": [
        "# ---------------------------\n",
        "# Step 4: Reference Checks\n",
        "# ---------------------------\n",
        "\n",
        "# Combine orders into one DataFrame\n",
        "orders_df = pd.concat([orders_apr_df, orders_may_df, orders_jun_df], ignore_index=True)\n",
        "\n",
        "# 4.1 Check menu_item_id\n",
        "missing_menu_ids = orders_df[~orders_df['menu_item_id'].isin(menu_df['menu_item_id'])]\n",
        "print(\"Missing menu IDs in orders (not found in menu):\")\n",
        "print(missing_menu_ids)\n",
        "\n",
        "# 4.2 Check client_id\n",
        "missing_guest_ids = orders_df[~orders_df['client_id'].isin(guests_df['guest_id'])]\n",
        "print(\"\\nMissing guest IDs in orders (not found in guests):\")\n",
        "print(missing_guest_ids)\n"
      ],
      "metadata": {
        "colab": {
          "base_uri": "https://localhost:8080/"
        },
        "id": "y5p4Fvd6Aadc",
        "outputId": "a36bf6d5-b123-421d-f8c8-ec4e1bc49293"
      },
      "execution_count": 4,
      "outputs": [
        {
          "output_type": "stream",
          "name": "stdout",
          "text": [
            "Missing menu IDs in orders (not found in menu):\n",
            "Empty DataFrame\n",
            "Columns: [order_id, client_id, order_date, order_time, menu_item_id, quantity, discount (%), total_price ($)]\n",
            "Index: []\n",
            "\n",
            "Missing guest IDs in orders (not found in guests):\n",
            "Empty DataFrame\n",
            "Columns: [order_id, client_id, order_date, order_time, menu_item_id, quantity, discount (%), total_price ($)]\n",
            "Index: []\n"
          ]
        }
      ]
    },
    {
      "cell_type": "code",
      "source": [
        "# ---------------------------\n",
        "# Step 5: Date & Time Conversion\n",
        "# ---------------------------\n",
        "\n",
        "import datetime\n",
        "\n",
        "# Convert 'order_date' from string to datetime\n",
        "orders_df['order_date'] = pd.to_datetime(orders_df['order_date'], format='%Y-%m-%d')\n",
        "\n",
        "# If 'order_time' is a separate column\n",
        "orders_df['order_time'] = pd.to_datetime(orders_df['order_time'], format='%H:%M:%S').dt.time\n",
        "\n",
        "\n",
        "def get_time_of_day(t):\n",
        "    \"\"\"\n",
        "    Categorize time of day into four intervals ( 08:00–23:00 only):\n",
        "      - Morning:   08:00 to 11:00\n",
        "      - Lunch:     11:00 to 14:00\n",
        "      - Afternoon: 14:00 to 18:00\n",
        "      - Evening:   18:00 to 23:00\n",
        "    \"\"\"\n",
        "\n",
        "    if t < datetime.time(11, 0):\n",
        "        return \"Morning\"     # covers 08:00–10:59\n",
        "    elif t < datetime.time(14, 0):\n",
        "        return \"Lunch\"       # covers 11:00–13:59\n",
        "    elif t < datetime.time(18, 0):\n",
        "        return \"Afternoon\"   # covers 14:00–17:59\n",
        "    else:\n",
        "        return \"Evening\"     # covers 18:00–22:59\n",
        "\n",
        "# Convert 'order_time' to datetime.time (if not already done)\n",
        "orders_df['order_time'] = pd.to_datetime(orders_df['order_time'], format='%H:%M:%S').dt.time\n",
        "\n",
        "# Apply the new function\n",
        "orders_df['time_of_day'] = orders_df['order_time'].apply(get_time_of_day)\n",
        "\n",
        "print(orders_df[['order_time', 'time_of_day']].head(10))\n"
      ],
      "metadata": {
        "colab": {
          "base_uri": "https://localhost:8080/"
        },
        "id": "anDrs-hdAxYf",
        "outputId": "22aca3eb-a0a8-42f8-ee33-5a54547d60bf"
      },
      "execution_count": 7,
      "outputs": [
        {
          "output_type": "stream",
          "name": "stdout",
          "text": [
            "  order_time time_of_day\n",
            "0   08:00:00     Morning\n",
            "1   08:00:00     Morning\n",
            "2   08:00:00     Morning\n",
            "3   08:00:00     Morning\n",
            "4   08:02:00     Morning\n",
            "5   08:02:00     Morning\n",
            "6   08:03:00     Morning\n",
            "7   08:03:00     Morning\n",
            "8   08:03:00     Morning\n",
            "9   08:04:00     Morning\n"
          ]
        }
      ]
    },
    {
      "cell_type": "code",
      "source": [
        "# ---------------------------\n",
        "# Step 6: Handling Missing Values & Duplicates\n",
        "# ---------------------------\n",
        "\n",
        "# Check for null values in combined orders\n",
        "null_summary = orders_df.isnull().sum()\n",
        "print(\"Null values per column:\\n\", null_summary)\n",
        "\n",
        "\n",
        "# Check for duplicates\n",
        "duplicates = orders_df.duplicated()\n",
        "print(f\"Number of duplicated rows: {duplicates.sum()}\")\n",
        "if duplicates.sum() > 0:\n",
        "    # Remove duplicates if they are truly duplicates\n",
        "    orders_df.drop_duplicates(inplace=True)\n",
        "    print(\"Duplicates removed.\")\n"
      ],
      "metadata": {
        "colab": {
          "base_uri": "https://localhost:8080/"
        },
        "id": "Krc8BnzPEukt",
        "outputId": "4599722c-4bad-4f9d-e19e-c0525d214183"
      },
      "execution_count": 8,
      "outputs": [
        {
          "output_type": "stream",
          "name": "stdout",
          "text": [
            "Null values per column:\n",
            " order_id           0\n",
            "client_id          0\n",
            "order_date         0\n",
            "order_time         0\n",
            "menu_item_id       0\n",
            "quantity           0\n",
            "discount (%)       0\n",
            "total_price ($)    0\n",
            "time_of_day        0\n",
            "dtype: int64\n",
            "Number of duplicated rows: 0\n"
          ]
        }
      ]
    },
    {
      "cell_type": "code",
      "source": [
        "# ---------------------------\n",
        "# Step 7: Save Cleaned Orders\n",
        "# ---------------------------\n",
        "\n",
        "# Saveing cleaned orders for future steps\n",
        "orders_df.to_csv(\"orders_cleaned.csv\", index=False)\n",
        "\n",
        "print(\"Cleaned orders saved locally (orders_cleaned.csv).\")\n"
      ],
      "metadata": {
        "colab": {
          "base_uri": "https://localhost:8080/"
        },
        "id": "OwCDZdR_FNuT",
        "outputId": "43deb798-8137-4162-e619-7f7b9a4b2d31"
      },
      "execution_count": 9,
      "outputs": [
        {
          "output_type": "stream",
          "name": "stdout",
          "text": [
            "Cleaned orders saved locally (orders_cleaned.csv).\n"
          ]
        }
      ]
    },
    {
      "cell_type": "code",
      "source": [],
      "metadata": {
        "id": "3f1pPoVKGhgI"
      },
      "execution_count": null,
      "outputs": []
    }
  ]
}
